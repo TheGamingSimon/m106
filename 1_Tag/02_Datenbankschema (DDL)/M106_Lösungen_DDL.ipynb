{
    "metadata": {
        "kernelspec": {
            "name": "SQL",
            "display_name": "SQL",
            "language": "sql"
        },
        "language_info": {
            "name": "sql",
            "version": ""
        }
    },
    "nbformat_minor": 2,
    "nbformat": 4,
    "cells": [
        {
            "cell_type": "markdown",
            "source": [
                "# **Übungsaufgaben DDL**\n",
                "\n",
                "Dieser Übungsblock enthält Aufgaben zum Thema _Datenbankschema (DDL)_. Löse die Aufgaben in der gestellten Reihenfolge."
            ],
            "metadata": {
                "azdata_cell_guid": "465e6588-382c-4b85-bc8f-6dc760925f7c"
            },
            "attachments": {}
        },
        {
            "cell_type": "markdown",
            "source": [
                "## CREATE"
            ],
            "metadata": {
                "azdata_cell_guid": "e3cdb4db-4d44-4c26-abc5-7218fef51a73"
            },
            "attachments": {}
        },
        {
            "cell_type": "markdown",
            "source": [
                "**1.1** Damit die Kunden in einer Bestellung mehrere Produkte bestellen können, ist in der Datenbank (Schema _verkauf_) eine weitere Tabelle nötig. Erstelle hierfür die Tabelle _bestellpositionen_ mit den folgenden Attributen in der vorgegebenen Reihenfolge: \n",
                "- _id_: Primärschlüsselspalte, exakter numerischer Wert, Auto-Inkrement\n",
                "- _bestellid_: exakter numerischer Wert, darf nicht leer sein\n",
                "- _produktid_: exakter numerischer Wert, darf nicht leer sein\n",
                "- _menge_: exakter numerischer Wert, darf nicht leer sein"
            ],
            "metadata": {
                "azdata_cell_guid": "4f4a5caa-c2fb-4c91-ad42-bc9d820cec35"
            },
            "attachments": {}
        },
        {
            "cell_type": "code",
            "source": [
                "-- Stelle sicher, dass du dich in der richtigen Datenbank befindest!\n",
                "USE m106;\n",
                "CREATE TABLE verkauf.bestellpositionen (\n",
                "    id INT PRIMARY KEY IDENTITY(1,1),\n",
                "    bestellid INT NOT NULL,\n",
                "    produktid INT NOT NULL,\n",
                "    menge SMALLINT NOT NULL\n",
                ");"
            ],
            "metadata": {
                "azdata_cell_guid": "2c9981bc-f063-4be6-af65-6e370478a1cb",
                "language": "sql"
            },
            "outputs": [
                {
                    "output_type": "display_data",
                    "data": {
                        "text/html": "Commands completed successfully."
                    },
                    "metadata": {}
                },
                {
                    "output_type": "display_data",
                    "data": {
                        "text/html": "Total execution time: 00:00:00.023"
                    },
                    "metadata": {}
                }
            ],
            "execution_count": 2
        },
        {
            "cell_type": "markdown",
            "source": [
                "**1.2** Für die Speicherung von sensitiven Daten erstellst du ein neues Schema mit dem Namen _intern_."
            ],
            "metadata": {
                "azdata_cell_guid": "8d382797-1054-437f-ab4a-6fc02918d77d"
            },
            "attachments": {}
        },
        {
            "cell_type": "code",
            "source": [
                "CREATE SCHEMA intern;"
            ],
            "metadata": {
                "azdata_cell_guid": "cb444221-890b-4a74-b5f1-7b52c4256812",
                "language": "sql"
            },
            "outputs": [
                {
                    "output_type": "display_data",
                    "data": {
                        "text/html": "Commands completed successfully."
                    },
                    "metadata": {}
                },
                {
                    "output_type": "display_data",
                    "data": {
                        "text/html": "Total execution time: 00:00:00.001"
                    },
                    "metadata": {}
                }
            ],
            "execution_count": 3
        },
        {
            "cell_type": "markdown",
            "source": [
                "**1.3** In dem neu erstellten Schema erstellst du nun die Tabelle _mitarbeiter_ gemäss dieser Definition:\n",
                "- _mitarbeiterid_: Primärschlüsselspalte, exakt numerischer Wert, Auto-Inkrement \n",
                "- _vorname_: Character String, kann leer sein\n",
                "- _nachname_: Character String, darf nicht leer sein\n",
                "- _geschlecht_: Character String, darf nicht leer sein und nur die Werte _m_, _w_, _n_ enthalten\n",
                "- _geburtsdatum_: Datum, darf nicht leer sein\n",
                "- _anstellungsdatum_: Datum, darf leer sein\n",
                "- _kader_: Boolean Datentyp, darf leer sein"
            ],
            "metadata": {
                "azdata_cell_guid": "c672ffd6-88b9-4577-95b5-884d82ad3e89"
            }
        },
        {
            "cell_type": "code",
            "source": [
                "CREATE TABLE intern.mitarbeiter (\n",
                "    mitarbeiterid INT PRIMARY KEY IDENTITY(1,1),\n",
                "    vorname VARCHAR(50) NULL,\n",
                "    nachname VARCHAR(50) NOT NULL,\n",
                "    geschlecht CHAR(1) CHECK (geschlecht in ('m','w','n')),\n",
                "    geburtsdatum DATE NOT NULL,\n",
                "    anstellungsdatum DATE,\n",
                "    kader BIT\n",
                ");"
            ],
            "metadata": {
                "azdata_cell_guid": "158ed39f-fcf0-4913-92e1-2fb41e4810cd",
                "language": "sql"
            },
            "outputs": [
                {
                    "output_type": "display_data",
                    "data": {
                        "text/html": "Commands completed successfully."
                    },
                    "metadata": {}
                },
                {
                    "output_type": "display_data",
                    "data": {
                        "text/html": "Total execution time: 00:00:00.004"
                    },
                    "metadata": {}
                }
            ],
            "execution_count": 4
        },
        {
            "cell_type": "code",
            "source": [
                "-- anschliessende Kontrolle, ob die Tabelle wie definiert in der DB existiert\n",
                "EXEC sp_columns @table_name = N'mitarbeiter',  @table_owner = N'intern'; "
            ],
            "metadata": {
                "azdata_cell_guid": "ade8c92c-0135-456a-9ad7-0ee8ac9ca0be",
                "language": "sql"
            },
            "outputs": [
                {
                    "output_type": "display_data",
                    "data": {
                        "text/html": "(7 rows affected)"
                    },
                    "metadata": {}
                },
                {
                    "output_type": "display_data",
                    "data": {
                        "text/html": "Total execution time: 00:00:00.022"
                    },
                    "metadata": {}
                },
                {
                    "output_type": "execute_result",
                    "metadata": {},
                    "execution_count": 5,
                    "data": {
                        "application/vnd.dataresource+json": {
                            "schema": {
                                "fields": [
                                    {
                                        "name": "TABLE_QUALIFIER"
                                    },
                                    {
                                        "name": "TABLE_OWNER"
                                    },
                                    {
                                        "name": "TABLE_NAME"
                                    },
                                    {
                                        "name": "COLUMN_NAME"
                                    },
                                    {
                                        "name": "DATA_TYPE"
                                    },
                                    {
                                        "name": "TYPE_NAME"
                                    },
                                    {
                                        "name": "PRECISION"
                                    },
                                    {
                                        "name": "LENGTH"
                                    },
                                    {
                                        "name": "SCALE"
                                    },
                                    {
                                        "name": "RADIX"
                                    },
                                    {
                                        "name": "NULLABLE"
                                    },
                                    {
                                        "name": "REMARKS"
                                    },
                                    {
                                        "name": "COLUMN_DEF"
                                    },
                                    {
                                        "name": "SQL_DATA_TYPE"
                                    },
                                    {
                                        "name": "SQL_DATETIME_SUB"
                                    },
                                    {
                                        "name": "CHAR_OCTET_LENGTH"
                                    },
                                    {
                                        "name": "ORDINAL_POSITION"
                                    },
                                    {
                                        "name": "IS_NULLABLE"
                                    },
                                    {
                                        "name": "SS_DATA_TYPE"
                                    }
                                ]
                            },
                            "data": [
                                {
                                    "TABLE_QUALIFIER": "m106",
                                    "TABLE_OWNER": "intern",
                                    "TABLE_NAME": "mitarbeiter",
                                    "COLUMN_NAME": "mitarbeiterid",
                                    "DATA_TYPE": "4",
                                    "TYPE_NAME": "int identity",
                                    "PRECISION": "10",
                                    "LENGTH": "4",
                                    "SCALE": "0",
                                    "RADIX": "10",
                                    "NULLABLE": "0",
                                    "REMARKS": "NULL",
                                    "COLUMN_DEF": "NULL",
                                    "SQL_DATA_TYPE": "4",
                                    "SQL_DATETIME_SUB": "NULL",
                                    "CHAR_OCTET_LENGTH": "NULL",
                                    "ORDINAL_POSITION": "1",
                                    "IS_NULLABLE": "NO",
                                    "SS_DATA_TYPE": "56"
                                },
                                {
                                    "TABLE_QUALIFIER": "m106",
                                    "TABLE_OWNER": "intern",
                                    "TABLE_NAME": "mitarbeiter",
                                    "COLUMN_NAME": "vorname",
                                    "DATA_TYPE": "12",
                                    "TYPE_NAME": "varchar",
                                    "PRECISION": "50",
                                    "LENGTH": "50",
                                    "SCALE": "NULL",
                                    "RADIX": "NULL",
                                    "NULLABLE": "1",
                                    "REMARKS": "NULL",
                                    "COLUMN_DEF": "NULL",
                                    "SQL_DATA_TYPE": "12",
                                    "SQL_DATETIME_SUB": "NULL",
                                    "CHAR_OCTET_LENGTH": "50",
                                    "ORDINAL_POSITION": "2",
                                    "IS_NULLABLE": "YES",
                                    "SS_DATA_TYPE": "39"
                                },
                                {
                                    "TABLE_QUALIFIER": "m106",
                                    "TABLE_OWNER": "intern",
                                    "TABLE_NAME": "mitarbeiter",
                                    "COLUMN_NAME": "nachname",
                                    "DATA_TYPE": "12",
                                    "TYPE_NAME": "varchar",
                                    "PRECISION": "50",
                                    "LENGTH": "50",
                                    "SCALE": "NULL",
                                    "RADIX": "NULL",
                                    "NULLABLE": "0",
                                    "REMARKS": "NULL",
                                    "COLUMN_DEF": "NULL",
                                    "SQL_DATA_TYPE": "12",
                                    "SQL_DATETIME_SUB": "NULL",
                                    "CHAR_OCTET_LENGTH": "50",
                                    "ORDINAL_POSITION": "3",
                                    "IS_NULLABLE": "NO",
                                    "SS_DATA_TYPE": "39"
                                },
                                {
                                    "TABLE_QUALIFIER": "m106",
                                    "TABLE_OWNER": "intern",
                                    "TABLE_NAME": "mitarbeiter",
                                    "COLUMN_NAME": "geschlecht",
                                    "DATA_TYPE": "1",
                                    "TYPE_NAME": "char",
                                    "PRECISION": "1",
                                    "LENGTH": "1",
                                    "SCALE": "NULL",
                                    "RADIX": "NULL",
                                    "NULLABLE": "1",
                                    "REMARKS": "NULL",
                                    "COLUMN_DEF": "NULL",
                                    "SQL_DATA_TYPE": "1",
                                    "SQL_DATETIME_SUB": "NULL",
                                    "CHAR_OCTET_LENGTH": "1",
                                    "ORDINAL_POSITION": "4",
                                    "IS_NULLABLE": "YES",
                                    "SS_DATA_TYPE": "39"
                                },
                                {
                                    "TABLE_QUALIFIER": "m106",
                                    "TABLE_OWNER": "intern",
                                    "TABLE_NAME": "mitarbeiter",
                                    "COLUMN_NAME": "geburtsdatum",
                                    "DATA_TYPE": "-9",
                                    "TYPE_NAME": "date",
                                    "PRECISION": "10",
                                    "LENGTH": "20",
                                    "SCALE": "NULL",
                                    "RADIX": "NULL",
                                    "NULLABLE": "0",
                                    "REMARKS": "NULL",
                                    "COLUMN_DEF": "NULL",
                                    "SQL_DATA_TYPE": "-9",
                                    "SQL_DATETIME_SUB": "NULL",
                                    "CHAR_OCTET_LENGTH": "NULL",
                                    "ORDINAL_POSITION": "5",
                                    "IS_NULLABLE": "NO",
                                    "SS_DATA_TYPE": "0"
                                },
                                {
                                    "TABLE_QUALIFIER": "m106",
                                    "TABLE_OWNER": "intern",
                                    "TABLE_NAME": "mitarbeiter",
                                    "COLUMN_NAME": "anstellungsdatum",
                                    "DATA_TYPE": "-9",
                                    "TYPE_NAME": "date",
                                    "PRECISION": "10",
                                    "LENGTH": "20",
                                    "SCALE": "NULL",
                                    "RADIX": "NULL",
                                    "NULLABLE": "1",
                                    "REMARKS": "NULL",
                                    "COLUMN_DEF": "NULL",
                                    "SQL_DATA_TYPE": "-9",
                                    "SQL_DATETIME_SUB": "NULL",
                                    "CHAR_OCTET_LENGTH": "NULL",
                                    "ORDINAL_POSITION": "6",
                                    "IS_NULLABLE": "YES",
                                    "SS_DATA_TYPE": "0"
                                },
                                {
                                    "TABLE_QUALIFIER": "m106",
                                    "TABLE_OWNER": "intern",
                                    "TABLE_NAME": "mitarbeiter",
                                    "COLUMN_NAME": "kader",
                                    "DATA_TYPE": "-7",
                                    "TYPE_NAME": "bit",
                                    "PRECISION": "1",
                                    "LENGTH": "1",
                                    "SCALE": "NULL",
                                    "RADIX": "NULL",
                                    "NULLABLE": "1",
                                    "REMARKS": "NULL",
                                    "COLUMN_DEF": "NULL",
                                    "SQL_DATA_TYPE": "-7",
                                    "SQL_DATETIME_SUB": "NULL",
                                    "CHAR_OCTET_LENGTH": "NULL",
                                    "ORDINAL_POSITION": "7",
                                    "IS_NULLABLE": "YES",
                                    "SS_DATA_TYPE": "50"
                                }
                            ]
                        },
                        "text/html": [
                            "<table>",
                            "<tr><th>TABLE_QUALIFIER</th><th>TABLE_OWNER</th><th>TABLE_NAME</th><th>COLUMN_NAME</th><th>DATA_TYPE</th><th>TYPE_NAME</th><th>PRECISION</th><th>LENGTH</th><th>SCALE</th><th>RADIX</th><th>NULLABLE</th><th>REMARKS</th><th>COLUMN_DEF</th><th>SQL_DATA_TYPE</th><th>SQL_DATETIME_SUB</th><th>CHAR_OCTET_LENGTH</th><th>ORDINAL_POSITION</th><th>IS_NULLABLE</th><th>SS_DATA_TYPE</th></tr>",
                            "<tr><td>m106</td><td>intern</td><td>mitarbeiter</td><td>mitarbeiterid</td><td>4</td><td>int identity</td><td>10</td><td>4</td><td>0</td><td>10</td><td>0</td><td>NULL</td><td>NULL</td><td>4</td><td>NULL</td><td>NULL</td><td>1</td><td>NO</td><td>56</td></tr>",
                            "<tr><td>m106</td><td>intern</td><td>mitarbeiter</td><td>vorname</td><td>12</td><td>varchar</td><td>50</td><td>50</td><td>NULL</td><td>NULL</td><td>1</td><td>NULL</td><td>NULL</td><td>12</td><td>NULL</td><td>50</td><td>2</td><td>YES</td><td>39</td></tr>",
                            "<tr><td>m106</td><td>intern</td><td>mitarbeiter</td><td>nachname</td><td>12</td><td>varchar</td><td>50</td><td>50</td><td>NULL</td><td>NULL</td><td>0</td><td>NULL</td><td>NULL</td><td>12</td><td>NULL</td><td>50</td><td>3</td><td>NO</td><td>39</td></tr>",
                            "<tr><td>m106</td><td>intern</td><td>mitarbeiter</td><td>geschlecht</td><td>1</td><td>char</td><td>1</td><td>1</td><td>NULL</td><td>NULL</td><td>1</td><td>NULL</td><td>NULL</td><td>1</td><td>NULL</td><td>1</td><td>4</td><td>YES</td><td>39</td></tr>",
                            "<tr><td>m106</td><td>intern</td><td>mitarbeiter</td><td>geburtsdatum</td><td>-9</td><td>date</td><td>10</td><td>20</td><td>NULL</td><td>NULL</td><td>0</td><td>NULL</td><td>NULL</td><td>-9</td><td>NULL</td><td>NULL</td><td>5</td><td>NO</td><td>0</td></tr>",
                            "<tr><td>m106</td><td>intern</td><td>mitarbeiter</td><td>anstellungsdatum</td><td>-9</td><td>date</td><td>10</td><td>20</td><td>NULL</td><td>NULL</td><td>1</td><td>NULL</td><td>NULL</td><td>-9</td><td>NULL</td><td>NULL</td><td>6</td><td>YES</td><td>0</td></tr>",
                            "<tr><td>m106</td><td>intern</td><td>mitarbeiter</td><td>kader</td><td>-7</td><td>bit</td><td>1</td><td>1</td><td>NULL</td><td>NULL</td><td>1</td><td>NULL</td><td>NULL</td><td>-7</td><td>NULL</td><td>NULL</td><td>7</td><td>YES</td><td>50</td></tr>",
                            "</table>"
                        ]
                    }
                }
            ],
            "execution_count": 5
        },
        {
            "cell_type": "markdown",
            "source": [
                "**1.4** Um den Mitarbeitern Löhne auszahlen zu können, wird eine Tabelle namens _lohnkonto_ benötigt, in welcher die folgenden Informationen gespeichert werden sollen (Achtung: es geht hier um sensitive Daten):\n",
                "- _kontoid_: Primärschlüsselspalte, exakt numerischer Wert, Auto-Inkrement\n",
                "- _iban_: Character String, darf nicht leer sein\n",
                "- _mitarbeiterid_: exakt numerischer Wert, darf nicht leer sein, Fremdschlüssel zu _intern.mitarbeiter.mitarbeiterid_\n",
                "- _gueltigab_: Datum, darf nicht leer sein\n",
                "- _gueltigbis_: Datum, darf leer sein"
            ],
            "metadata": {
                "azdata_cell_guid": "0bf697ea-f30b-46b8-b518-bcbf7eeda43d"
            },
            "attachments": {}
        },
        {
            "cell_type": "code",
            "source": [
                "CREATE TABLE intern.lohnkonto (\n",
                "    kontoid INT PRIMARY KEY IDENTITY(1,1),\n",
                "    iban VARCHAR(20) NOT NULL,\n",
                "    mitarbeiterid INT NOT NULL FOREIGN KEY REFERENCES intern.mitarbeiter(mitarbeiterid),\n",
                "    gueltigab DATE NOT NULL,\n",
                "    gueltigbis DATE\n",
                ");"
            ],
            "metadata": {
                "azdata_cell_guid": "6939d3e6-dae3-445a-bbe7-8bd66affb9be",
                "language": "sql"
            },
            "outputs": [
                {
                    "output_type": "display_data",
                    "data": {
                        "text/html": "Commands completed successfully."
                    },
                    "metadata": {}
                },
                {
                    "output_type": "display_data",
                    "data": {
                        "text/html": "Total execution time: 00:00:00.004"
                    },
                    "metadata": {}
                }
            ],
            "execution_count": 6
        },
        {
            "cell_type": "markdown",
            "source": [
                "## ALTER"
            ],
            "metadata": {
                "azdata_cell_guid": "89facc2b-e784-47b9-a73a-e3e6584b9e2f"
            },
            "attachments": {}
        },
        {
            "cell_type": "markdown",
            "source": [
                "**2.1** Erweitere die Tabelle _bestellpositionen_ um die neue Spalte _rabatt_ (exakt numerischer Wert)."
            ],
            "metadata": {
                "azdata_cell_guid": "d6317bec-7758-421b-b1a5-23747b8c67cf"
            },
            "attachments": {}
        },
        {
            "cell_type": "code",
            "source": [
                "ALTER TABLE verkauf.bestellpositionen\n",
                "ADD rabatt TINYINT;"
            ],
            "metadata": {
                "azdata_cell_guid": "ab2dedf9-b048-4825-8b6e-c6befac65ea8",
                "language": "sql"
            },
            "outputs": [
                {
                    "output_type": "display_data",
                    "data": {
                        "text/html": "Commands completed successfully."
                    },
                    "metadata": {}
                },
                {
                    "output_type": "display_data",
                    "data": {
                        "text/html": "Total execution time: 00:00:00.004"
                    },
                    "metadata": {}
                }
            ],
            "execution_count": 7
        },
        {
            "cell_type": "markdown",
            "source": [
                "**2.2** Stelle sicher, dass in der Mitarbeiter-Tabelle auch Vor- und Nachnamen mit Zeichen aus dem Unicode-Zeichensatz gespeichert werden können. "
            ],
            "metadata": {
                "azdata_cell_guid": "24648a12-7ecd-4a43-9216-44ee4d635109"
            },
            "attachments": {}
        },
        {
            "cell_type": "code",
            "source": [
                "ALTER TABLE intern.mitarbeiter\n",
                "ALTER COLUMN vorname NVARCHAR(50) NULL;\n",
                "\n",
                "ALTER TABLE intern.mitarbeiter\n",
                "ALTER COLUMN nachname NVARCHAR(50) NOT NULL;"
            ],
            "metadata": {
                "azdata_cell_guid": "58f36f43-6bd5-445c-8b6c-b81a70c881f8",
                "language": "sql"
            },
            "outputs": [
                {
                    "output_type": "display_data",
                    "data": {
                        "text/html": "Commands completed successfully."
                    },
                    "metadata": {}
                },
                {
                    "output_type": "display_data",
                    "data": {
                        "text/html": "Total execution time: 00:00:00.010"
                    },
                    "metadata": {}
                }
            ],
            "execution_count": 8
        },
        {
            "cell_type": "markdown",
            "source": [
                "**2.3** Füge der Mitarbeiter-Tabelle auch gleich noch das neue Feld _email_ hinzu. Bestimme selbst, welcher Datentyp hier der geeignetste ist."
            ],
            "metadata": {
                "azdata_cell_guid": "c6bed2e6-87b5-43a6-8e22-20e32d992c4b"
            },
            "attachments": {}
        },
        {
            "cell_type": "code",
            "source": [
                "ALTER TABLE intern.mitarbeiter\n",
                "ADD email VARCHAR(50) NULL;"
            ],
            "metadata": {
                "azdata_cell_guid": "d077b923-8cb3-423d-be53-b157b3f8b521",
                "language": "sql"
            },
            "outputs": [
                {
                    "output_type": "display_data",
                    "data": {
                        "text/html": "Commands completed successfully."
                    },
                    "metadata": {}
                },
                {
                    "output_type": "display_data",
                    "data": {
                        "text/html": "Total execution time: 00:00:00.003"
                    },
                    "metadata": {}
                }
            ],
            "execution_count": 9
        },
        {
            "cell_type": "markdown",
            "source": [
                "**2.4** Das Attribut _kader_ ist in der Tabelle _intern.mitarbeiter_ fehl am Platz. Bitte entferne dieses aus der Tabelle."
            ],
            "metadata": {
                "azdata_cell_guid": "661782e0-6f8d-4a2c-8435-4f8fddef1a6b"
            },
            "attachments": {}
        },
        {
            "cell_type": "code",
            "source": [
                "ALTER TABLE intern.mitarbeiter\n",
                "DROP COLUMN kader;"
            ],
            "metadata": {
                "azdata_cell_guid": "1144ef34-0ea9-413f-9d0b-117ee9dbd2c2",
                "language": "sql"
            },
            "outputs": [
                {
                    "output_type": "display_data",
                    "data": {
                        "text/html": "Commands completed successfully."
                    },
                    "metadata": {}
                },
                {
                    "output_type": "display_data",
                    "data": {
                        "text/html": "Total execution time: 00:00:00.003"
                    },
                    "metadata": {}
                }
            ],
            "execution_count": 10
        },
        {
            "cell_type": "markdown",
            "source": [
                "## Schlüsselfelder und Constraints"
            ],
            "metadata": {
                "azdata_cell_guid": "e694df87-e58d-47ac-88fe-e83cd2658430"
            },
            "attachments": {}
        },
        {
            "cell_type": "markdown",
            "source": [
                "**3.1** Der Tabelle _verkauf.bestellpositionen_ fehlen noch die Fremdschlüssel. Überlege dir, welche das sind und füge sie hinzu."
            ],
            "metadata": {
                "azdata_cell_guid": "d549e3bb-89f1-4205-a6ef-b38218a4f648"
            },
            "attachments": {}
        },
        {
            "cell_type": "code",
            "source": [
                "ALTER TABLE verkauf.bestellpositionen\n",
                "ADD FOREIGN KEY (bestellid) REFERENCES verkauf.bestellungen(bestellid);\n",
                "\n",
                "ALTER TABLE verkauf.bestellpositionen\n",
                "ADD CONSTRAINT fk_bestellpos_produktid FOREIGN KEY (produktid) REFERENCES verkauf.produkte(produktid);"
            ],
            "metadata": {
                "azdata_cell_guid": "7aa166b6-9d1c-4b33-a0ba-a0ba9bd8f750",
                "language": "sql",
                "tags": []
            },
            "outputs": [
                {
                    "output_type": "display_data",
                    "data": {
                        "text/html": "Commands completed successfully."
                    },
                    "metadata": {}
                },
                {
                    "output_type": "display_data",
                    "data": {
                        "text/html": "Total execution time: 00:00:00.004"
                    },
                    "metadata": {}
                }
            ],
            "execution_count": 11
        },
        {
            "cell_type": "markdown",
            "source": [
                "**3.2** Bei der Tabelle _lohnkonto_ soll auf der Spalte _gueltigbis_ der Standard-Wert '31.12.9999' definiert werden. Bitte nimm diese Änderung vor."
            ],
            "metadata": {
                "azdata_cell_guid": "382fdde4-254b-4721-bac7-77208df17673"
            },
            "attachments": {}
        },
        {
            "cell_type": "code",
            "source": [
                "ALTER TABLE intern.lohnkonto\n",
                "ADD DEFAULT '31.12.9999' FOR gueltigbis;"
            ],
            "metadata": {
                "azdata_cell_guid": "09810f77-26b0-4373-89bf-642bc24ccb1f",
                "language": "sql"
            },
            "outputs": [
                {
                    "output_type": "display_data",
                    "data": {
                        "text/html": "Commands completed successfully."
                    },
                    "metadata": {}
                },
                {
                    "output_type": "display_data",
                    "data": {
                        "text/html": "Total execution time: 00:00:00.003"
                    },
                    "metadata": {}
                }
            ],
            "execution_count": 12
        }
    ]
}